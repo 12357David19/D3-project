{
  "nbformat": 4,
  "nbformat_minor": 0,
  "metadata": {
    "colab": {
      "name": "Colab's New Code Editor",
      "provenance": [],
      "collapsed_sections": [],
      "include_colab_link": true
    },
    "kernelspec": {
      "display_name": "Python 3",
      "name": "python3"
    }
  },
  "cells": [
    {
      "cell_type": "markdown",
      "metadata": {
        "id": "view-in-github",
        "colab_type": "text"
      },
      "source": [
        "<a href=\"https://colab.research.google.com/github/12357David19/D3-project/blob/master/Colab's_New_Code_Editor.ipynb\" target=\"_parent\"><img src=\"https://colab.research.google.com/assets/colab-badge.svg\" alt=\"Open In Colab\"/></a>"
      ]
    },
    {
      "cell_type": "code",
      "metadata": {
        "id": "NAPveAffHwt-",
        "colab_type": "code",
        "colab": {}
      },
      "source": [
        "import tensorflow as tf\n",
        "import numpy as np\n"
      ],
      "execution_count": 0,
      "outputs": []
    },
    {
      "cell_type": "code",
      "metadata": {
        "id": "wj7DnBSuIQPB",
        "colab_type": "code",
        "colab": {
          "base_uri": "https://localhost:8080/",
          "height": 93
        },
        "outputId": "1765b443-6244-4a1a-8a73-543ea58ef71f"
      },
      "source": [
        "model = tf.keras.models.Sequential()\n",
        "model.add(tf.keras.layers.Flatten())\n",
        "model.add(tf.keras.layers.Dense(128,activation=tf.nn.relu))\n",
        "model.add(tf.keras.layers.Dense(128,activation=tf.nn.relu))\n",
        "model.add(tf.keras.layers.Dense(10,activation=tf.nn.softmax))\n",
        "model.compile(optimizer='adam',\n",
        "              loss='sparse_categorical_crossentropy',\n",
        "              metrics=['accuracy'])\n"
      ],
      "execution_count": 4,
      "outputs": [
        {
          "output_type": "stream",
          "text": [
            "WARNING:tensorflow:From /usr/local/lib/python3.6/dist-packages/tensorflow/python/ops/init_ops.py:1251: calling VarianceScaling.__init__ (from tensorflow.python.ops.init_ops) with dtype is deprecated and will be removed in a future version.\n",
            "Instructions for updating:\n",
            "Call initializer instance with the dtype argument instead of passing it to the constructor\n"
          ],
          "name": "stdout"
        }
      ]
    },
    {
      "cell_type": "code",
      "metadata": {
        "id": "B03lWTpfIkxr",
        "colab_type": "code",
        "colab": {
          "base_uri": "https://localhost:8080/",
          "height": 73
        },
        "outputId": "fe90e7c6-c847-4dac-d5a4-67ec649fabc9"
      },
      "source": [
        "from keras.datasets import mnist\n",
        "\n",
        "(x_train, y_train), (x_test, y_test) = mnist.load_data()\n",
        "x_train = tf.keras.utils.normalize(x_train, axis=1)\n",
        "x_test = tf.keras.utils.normalize(x_test, axis=1)\n"
      ],
      "execution_count": 5,
      "outputs": [
        {
          "output_type": "stream",
          "text": [
            "Using TensorFlow backend.\n"
          ],
          "name": "stderr"
        },
        {
          "output_type": "stream",
          "text": [
            "Downloading data from https://s3.amazonaws.com/img-datasets/mnist.npz\n",
            "11493376/11490434 [==============================] - 1s 0us/step\n"
          ],
          "name": "stdout"
        }
      ]
    },
    {
      "cell_type": "code",
      "metadata": {
        "id": "kzDCXiuMIqUh",
        "colab_type": "code",
        "colab": {
          "base_uri": "https://localhost:8080/",
          "height": 36
        },
        "outputId": "a1d5b083-4b5f-49d9-d4fb-a8f3f52f1a01"
      },
      "source": [
        "x_train.shape"
      ],
      "execution_count": 13,
      "outputs": [
        {
          "output_type": "execute_result",
          "data": {
            "text/plain": [
              "(60000, 28, 28)"
            ]
          },
          "metadata": {
            "tags": []
          },
          "execution_count": 13
        }
      ]
    },
    {
      "cell_type": "code",
      "metadata": {
        "id": "fLHGiB5bItn4",
        "colab_type": "code",
        "colab": {
          "base_uri": "https://localhost:8080/",
          "height": 148
        },
        "outputId": "fca8b0c9-a1fe-4b19-f228-4c107adb3c56"
      },
      "source": [
        "model.fit(x_train,y_train, epochs=3)"
      ],
      "execution_count": 7,
      "outputs": [
        {
          "output_type": "stream",
          "text": [
            "Epoch 1/3\n",
            "60000/60000 [==============================] - 5s 82us/sample - loss: 0.2575 - acc: 0.9250\n",
            "Epoch 2/3\n",
            "60000/60000 [==============================] - 4s 73us/sample - loss: 0.1040 - acc: 0.9681\n",
            "Epoch 3/3\n",
            "60000/60000 [==============================] - 4s 73us/sample - loss: 0.0712 - acc: 0.9778\n"
          ],
          "name": "stdout"
        },
        {
          "output_type": "execute_result",
          "data": {
            "text/plain": [
              "<tensorflow.python.keras.callbacks.History at 0x7fc447589438>"
            ]
          },
          "metadata": {
            "tags": []
          },
          "execution_count": 7
        }
      ]
    },
    {
      "cell_type": "code",
      "metadata": {
        "id": "5vfmtVzLJAEh",
        "colab_type": "code",
        "colab": {
          "base_uri": "https://localhost:8080/",
          "height": 36
        },
        "outputId": "f3c129a8-6eb8-45ff-9c0f-90d009cd16ff"
      },
      "source": [
        "val_loss, val_acc = model.evaluate(x_test,y_test)"
      ],
      "execution_count": 9,
      "outputs": [
        {
          "output_type": "stream",
          "text": [
            "10000/10000 [==============================] - 0s 33us/sample - loss: 0.0918 - acc: 0.9743\n"
          ],
          "name": "stdout"
        }
      ]
    },
    {
      "cell_type": "code",
      "metadata": {
        "id": "w3OUj5GILINs",
        "colab_type": "code",
        "colab": {
          "base_uri": "https://localhost:8080/",
          "height": 36
        },
        "outputId": "ae0044b1-cc6b-4ce4-98a6-8adf5171e3fc"
      },
      "source": [
        "print(\"loss:\",val_loss)"
      ],
      "execution_count": 14,
      "outputs": [
        {
          "output_type": "stream",
          "text": [
            "loss: 0.0918104016840225\n"
          ],
          "name": "stdout"
        }
      ]
    },
    {
      "cell_type": "code",
      "metadata": {
        "id": "lswEE4m6LdlI",
        "colab_type": "code",
        "colab": {
          "base_uri": "https://localhost:8080/",
          "height": 73
        },
        "outputId": "b86e684b-b462-496e-bf69-9369cac0295a"
      },
      "source": [
        "predictions = model.predict(x_test)\n",
        "print(predictions[50])\n",
        "print(np.argmax(predictions[50]))\n"
      ],
      "execution_count": 16,
      "outputs": [
        {
          "output_type": "stream",
          "text": [
            "[2.4611240e-06 6.4965211e-10 5.1868758e-09 7.5348359e-09 4.0772576e-08\n",
            " 5.4624996e-07 9.9999690e-01 9.2509715e-11 2.7083622e-08 6.5159922e-10]\n",
            "6\n"
          ],
          "name": "stdout"
        }
      ]
    },
    {
      "cell_type": "code",
      "metadata": {
        "id": "BlnsEd3GLx2O",
        "colab_type": "code",
        "colab": {
          "base_uri": "https://localhost:8080/",
          "height": 269
        },
        "outputId": "429a4056-c3d4-4c64-b649-f51dc7e1ef42"
      },
      "source": [
        "import matplotlib.pyplot as plt\n",
        "plt.imshow(x_test[50])\n",
        "plt.show()\n"
      ],
      "execution_count": 19,
      "outputs": [
        {
          "output_type": "display_data",
          "data": {
            "image/png": "[encoded data removed]",
            "text/plain": [
              "<Figure size 432x288 with 1 Axes>"
            ]
          },
          "metadata": {
            "tags": []
          }
        }
      ]
    },
    {
      "cell_type": "code",
      "metadata": {
        "id": "63-Z3AndRmXX",
        "colab_type": "code",
        "colab": {}
      },
      "source": [
        "head_model = tf.keras.models.Sequential()\n",
        "head_model.add(tf.keras.layers.Flatten(input_shape=(32,32,1)))\n",
        "head_model.add(tf.keras.layers.Dense(128,activation=tf.nn.relu))\n",
        "head_model.add(tf.keras.layers.Dense(128,activation=tf.nn.relu))\n",
        "head_model.add(tf.keras.layers.Dense(2,activation=tf.nn.softmax))\n",
        "head_model.compile(optimizer='adam',\n",
        "              loss='sparse_categorical_crossentropy',\n",
        "              metrics=['accuracy'])"
      ],
      "execution_count": 0,
      "outputs": []
    },
    {
      "cell_type": "markdown",
      "metadata": {
        "id": "-scPlyTQYuAX",
        "colab_type": "text"
      },
      "source": [
        "Upload the MRBRain data"
      ]
    },
    {
      "cell_type": "code",
      "metadata": {
        "id": "2Vhz5hv1X_E8",
        "colab_type": "code",
        "colab": {}
      },
      "source": [
        "x_test1_orig = np.load(\"/content/mrbraintestx.npy\")\n",
        "y_test1 = np.load(\"/content/mrbraintesty.npy\")\n",
        "x_train1 = np.load(\"/content/mrbraintrainx.npy\")\n",
        "y_train1 = np.load(\"/content/mrbraintrainy.npy\")\n",
        "\n",
        "x_train1 = tf.keras.utils.normalize(x_train1, axis=1)\n",
        "x_test1 = tf.keras.utils.normalize(x_test1, axis=1)\n",
        "\n",
        "\n",
        "x_test1=x_test1_orig[:,:,:,np.newaxis]"
      ],
      "execution_count": 0,
      "outputs": []
    },
    {
      "cell_type": "code",
      "metadata": {
        "id": "0GuAerXkj6PC",
        "colab_type": "code",
        "colab": {
          "base_uri": "https://localhost:8080/",
          "height": 36
        },
        "outputId": "2d9a10f8-e13c-4f57-9576-40e8eeea747a"
      },
      "source": [
        "x_train1=x_train1[:,:,:,np.newaxis]\n",
        "x_train1.shape"
      ],
      "execution_count": 93,
      "outputs": [
        {
          "output_type": "execute_result",
          "data": {
            "text/plain": [
              "(780, 32, 32, 1)"
            ]
          },
          "metadata": {
            "tags": []
          },
          "execution_count": 93
        }
      ]
    },
    {
      "cell_type": "code",
      "metadata": {
        "id": "ryAQ4p9Qis-N",
        "colab_type": "code",
        "colab": {
          "base_uri": "https://localhost:8080/",
          "height": 410
        },
        "outputId": "c9b1829c-4d34-452d-9114-370b2d5e08e8"
      },
      "source": [
        "from keras.preprocessing.image import ImageDataGenerator\n",
        "\n",
        "\n",
        "datagen=ImageDataGenerator(horizontal_flip=True)\n",
        "head_model.fit_generator(datagen.flow(x_train1,y_train1, batch_size=1000),steps_per_epoch=40,epochs=10)"
      ],
      "execution_count": 94,
      "outputs": [
        {
          "output_type": "stream",
          "text": [
            "Epoch 1/10\n",
            "40/40 [==============================] - 4s 99ms/step - loss: 0.0539 - acc: 0.9881\n",
            "Epoch 2/10\n",
            "40/40 [==============================] - 4s 101ms/step - loss: 0.0528 - acc: 0.9887\n",
            "Epoch 3/10\n",
            "40/40 [==============================] - 4s 101ms/step - loss: 0.0467 - acc: 0.9912\n",
            "Epoch 4/10\n",
            "40/40 [==============================] - 4s 101ms/step - loss: 0.0458 - acc: 0.9915\n",
            "Epoch 5/10\n",
            "40/40 [==============================] - 4s 101ms/step - loss: 0.0463 - acc: 0.9912\n",
            "Epoch 6/10\n",
            "40/40 [==============================] - 4s 101ms/step - loss: 0.7731 - acc: 0.6988\n",
            "Epoch 7/10\n",
            "40/40 [==============================] - 4s 101ms/step - loss: 0.5025 - acc: 0.7369\n",
            "Epoch 8/10\n",
            "40/40 [==============================] - 4s 101ms/step - loss: 0.4052 - acc: 0.8087\n",
            "Epoch 9/10\n",
            "40/40 [==============================] - 4s 101ms/step - loss: 0.3110 - acc: 0.8631\n",
            "Epoch 10/10\n",
            "40/40 [==============================] - 4s 101ms/step - loss: 0.2729 - acc: 0.8846\n"
          ],
          "name": "stdout"
        },
        {
          "output_type": "execute_result",
          "data": {
            "text/plain": [
              "<tensorflow.python.keras.callbacks.History at 0x7fc4389cd710>"
            ]
          },
          "metadata": {
            "tags": []
          },
          "execution_count": 94
        }
      ]
    },
    {
      "cell_type": "code",
      "metadata": {
        "id": "SS_rxMHmaej9",
        "colab_type": "code",
        "colab": {}
      },
      "source": [
        "#head_model.fit(x_train1,y_train1, epochs=100)"
      ],
      "execution_count": 0,
      "outputs": []
    },
    {
      "cell_type": "code",
      "metadata": {
        "id": "v4UWTg1xYg69",
        "colab_type": "code",
        "colab": {
          "base_uri": "https://localhost:8080/",
          "height": 36
        },
        "outputId": "2ef15186-2ca1-4ed6-9131-c28dadabd47f"
      },
      "source": [
        "val_loss1, val_acc1 = head_model.evaluate(x_test1,y_test1)"
      ],
      "execution_count": 96,
      "outputs": [
        {
          "output_type": "stream",
          "text": [
            "\r20/20 [==============================] - 0s 73us/sample - loss: 2.9353 - acc: 0.6500\n"
          ],
          "name": "stdout"
        }
      ]
    },
    {
      "cell_type": "code",
      "metadata": {
        "id": "tY6K9LY1YhxX",
        "colab_type": "code",
        "colab": {
          "base_uri": "https://localhost:8080/",
          "height": 73
        },
        "outputId": "6f71465d-7cf2-47f8-ed1b-20a59ecb819b"
      },
      "source": [
        "predictions = head_model.predict(x_test1)\n",
        "print(predictions[10])\n",
        "print(np.argmax(predictions[10]))\n",
        "print(y_test1[10])"
      ],
      "execution_count": 97,
      "outputs": [
        {
          "output_type": "stream",
          "text": [
            "[1.2858948e-06 9.9999869e-01]\n",
            "1\n",
            "0.0\n"
          ],
          "name": "stdout"
        }
      ]
    },
    {
      "cell_type": "code",
      "metadata": {
        "id": "eU-hUKk2g_7k",
        "colab_type": "code",
        "colab": {
          "base_uri": "https://localhost:8080/",
          "height": 269
        },
        "outputId": "f6f08a8c-c2ac-41a9-a3a5-6764e61d60f7"
      },
      "source": [
        "import matplotlib.pyplot as plt\n",
        "plt.imshow(x_test1_orig[10])\n",
        "plt.show()\n"
      ],
      "execution_count": 99,
      "outputs": [
        {
          "output_type": "display_data",
          "data": {
            "image/png": "[encoded data removed]",
            "text/plain": [
              "<Figure size 432x288 with 1 Axes>"
            ]
          },
          "metadata": {
            "tags": []
          }
        }
      ]
    }
  ]
}